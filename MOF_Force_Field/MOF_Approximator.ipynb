{
 "cells": [
  {
   "cell_type": "code",
   "execution_count": 1,
   "metadata": {},
   "outputs": [],
   "source": [
    "from dataloader import MOFDataset\n",
    "import os.path as osp \n",
    "import os"
   ]
  },
  {
   "cell_type": "code",
   "execution_count": 2,
   "metadata": {},
   "outputs": [],
   "source": [
    "cur_dir = os.curdir\n",
    "dataset = MOFDataset('FIGXAU_V2.csv','.')"
   ]
  },
  {
   "cell_type": "code",
   "execution_count": 3,
   "metadata": {},
   "outputs": [
    {
     "data": {
      "text/plain": [
       "MOFDataset(49988)"
      ]
     },
     "execution_count": 3,
     "metadata": {},
     "output_type": "execute_result"
    }
   ],
   "source": [
    "dataset"
   ]
  },
  {
   "cell_type": "code",
   "execution_count": 4,
   "metadata": {},
   "outputs": [],
   "source": [
    "import numpy as np \n",
    "import matplotlib.pyplot as plt \n",
    "import torch \n",
    "import torch.nn as nn \n",
    "import torch.nn.functional as F\n",
    "import torch.utils.data as data_utils\n",
    "\n",
    "from torch_geometric.data import Data, DataLoader\n",
    "from model import MOF_Net, run\n",
    "from MOLGCN import MOLGCN\n",
    "import model"
   ]
  },
  {
   "cell_type": "code",
   "execution_count": null,
   "metadata": {},
   "outputs": [
    {
     "name": "stdout",
     "output_type": "stream",
     "text": [
      "Epoch 1 : Training Loss: 1975.3556 \t Validation Loss: 514.7431 \n",
      "Epoch 2 : Training Loss: 564.7342 \t Validation Loss: 470.6502 \n",
      "Epoch 3 : Training Loss: 502.4572 \t Validation Loss: 423.8463 \n",
      "Epoch 4 : Training Loss: 455.0027 \t Validation Loss: 422.1005 \n",
      "Epoch 5 : Training Loss: 402.6585 \t Validation Loss: 415.1606 \n",
      "Epoch 6 : Training Loss: 380.8641 \t Validation Loss: 415.1636 \n",
      "Epoch 7 : Training Loss: 380.8642 \t Validation Loss: 415.1636 \n",
      "Epoch 8 : Training Loss: 380.8648 \t Validation Loss: 415.1636 \n",
      "Epoch 9 : Training Loss: 380.8714 \t Validation Loss: 415.1636 \n",
      "Epoch 10 : Training Loss: 380.8642 \t Validation Loss: 415.1636 \n",
      "Epoch 11 : Training Loss: 380.8642 \t Validation Loss: 415.1636 \n",
      "Epoch 12 : Training Loss: 380.8642 \t Validation Loss: 415.1636 \n",
      "Epoch 13 : Training Loss: 380.8642 \t Validation Loss: 415.1636 \n",
      "Epoch 14 : Training Loss: 380.8642 \t Validation Loss: 415.1636 \n",
      "Epoch 15 : Training Loss: 380.8642 \t Validation Loss: 415.1636 \n"
     ]
    }
   ],
   "source": [
    "dataset = dataset.shuffle()\n",
    "batch_size = 2\n",
    "one_tenth_length = int(len(dataset) * 0.1)\n",
    "\n",
    "train_dataset = dataset[:one_tenth_length * 8]\n",
    "train_loader = DataLoader(train_dataset, batch_size=batch_size)\n",
    "\n",
    "val_dataset = dataset[one_tenth_length * 8 :]\n",
    "val_loader = DataLoader(val_dataset, batch_size = batch_size)\n",
    "\n",
    "device = torch.device(\"cuda\" if torch.cuda.is_available() else \"cpu\")\n",
    "model = MOF_Net(5).to(device)\n",
    "optimizer = torch.optim.Adam(model.parameters(), lr=1e-2)\n",
    "loss_func = nn.MSELoss()\n",
    "\n",
    "train_loss_list = []\n",
    "val_loss_list = [] \n",
    "\n",
    "for epoch in range(100):\n",
    "    training_loss = run(train_loader,model,optimizer,loss_func,device,True)\n",
    "    val_loss = run(val_loader,\n",
    "                   model,\n",
    "                   optimizer,\n",
    "                   loss_func,\n",
    "                   device,\n",
    "                   False)\n",
    "    train_loss_list.append(training_loss)\n",
    "    val_loss_list.append(val_loss)\n",
    "    print(\"Epoch {} : Training Loss: {:.4f} \\t Validation Loss: {:.4f} \".format(epoch + 1, training_loss, val_loss))        "
   ]
  },
  {
   "cell_type": "code",
   "execution_count": null,
   "metadata": {},
   "outputs": [],
   "source": []
  }
 ],
 "metadata": {
  "kernelspec": {
   "display_name": "Python 3",
   "language": "python",
   "name": "python3"
  },
  "language_info": {
   "codemirror_mode": {
    "name": "ipython",
    "version": 3
   },
   "file_extension": ".py",
   "mimetype": "text/x-python",
   "name": "python",
   "nbconvert_exporter": "python",
   "pygments_lexer": "ipython3",
   "version": "3.6.9"
  }
 },
 "nbformat": 4,
 "nbformat_minor": 4
}
